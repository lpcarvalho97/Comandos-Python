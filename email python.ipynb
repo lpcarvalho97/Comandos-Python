{
 "cells": [
  {
   "cell_type": "code",
   "execution_count": null,
   "id": "68805c90",
   "metadata": {},
   "outputs": [],
   "source": [
    "import smtplib\n",
    "import email.message\n",
    "\n",
    "def enviar_email():\n",
    "    corpo_email = \"\"\"\n",
    "    <p> Boa noite,</p>\n",
    "    \n",
    "    <p>Veja como funcionou este e-mail encaminhado via Python!</p>\n",
    "    \n",
    "    <p>É multilinha.</p>\n",
    "    \n",
    "    \"\"\"\n",
    "    \n",
    "    msg = email.message.Message()\n",
    "    msg['Subject'] = \"E-mail encaminhado via Python\"\n",
    "    msg['From'] = 'e-mail remetente'\n",
    "    msg['To'] = 'e-mail destinatário'\n",
    "    password = 'senha'\n",
    "    msg.add_header('Content-Type', 'text/html')\n",
    "    msg.set_payload(corpo_email)\n",
    "    s = smtplib.SMTP ('smtp.gmail.com: 587')\n",
    "    s.starttls()\n",
    "    s.login(msg['From'], password)\n",
    "    s.sendmail(msg['From'], [msg['To']], msg.as_string().encode('utf-8'))\n",
    "    print('Email enviado com sucesso!')\n",
    "    "
   ]
  },
  {
   "cell_type": "code",
   "execution_count": null,
   "id": "8aeb7720",
   "metadata": {},
   "outputs": [],
   "source": [
    "enviar_email()"
   ]
  }
 ],
 "metadata": {
  "kernelspec": {
   "display_name": "Python 3 (ipykernel)",
   "language": "python",
   "name": "python3"
  },
  "language_info": {
   "codemirror_mode": {
    "name": "ipython",
    "version": 3
   },
   "file_extension": ".py",
   "mimetype": "text/x-python",
   "name": "python",
   "nbconvert_exporter": "python",
   "pygments_lexer": "ipython3",
   "version": "3.8.12"
  }
 },
 "nbformat": 4,
 "nbformat_minor": 5
}
