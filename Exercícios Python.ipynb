{
 "cells": [
  {
   "cell_type": "code",
   "execution_count": 1,
   "id": "5b580334",
   "metadata": {},
   "outputs": [
    {
     "name": "stdout",
     "output_type": "stream",
     "text": [
      "TestMe does equal 6!\n"
     ]
    }
   ],
   "source": [
    "TestMe = 6\n",
    "if TestMe == 6:\n",
    "    print(\"TestMe does equal 6!\")"
   ]
  },
  {
   "cell_type": "code",
   "execution_count": 20,
   "id": "7de31de7",
   "metadata": {},
   "outputs": [
    {
     "name": "stdout",
     "output_type": "stream",
     "text": [
      "Type a number between 1 and 10: 1\n",
      "You typed:  1\n"
     ]
    }
   ],
   "source": [
    "Value = int(input(\"Type a number between 1 and 10: \"))\n",
    "if (Value > 0) and (Value <= 10):\n",
    "    print(\"You typed: \", Value)\n",
    "else:\n",
    "    print(\"The value you typed is incorrect!\")"
   ]
  },
  {
   "cell_type": "code",
   "execution_count": 8,
   "id": "41c2fe32",
   "metadata": {},
   "outputs": [
    {
     "name": "stdout",
     "output_type": "stream",
     "text": [
      "Type a number between 1 and 10: 11\n",
      "Type a number between 1 and 10: 10\n",
      "Incorrect first value!\n"
     ]
    }
   ],
   "source": [
    "One = int(input(\"Type a number between 1 and 10: \"))\n",
    "Two = int(input(\"Type a number between 1 and 10: \"))\n",
    "if (One >= 1) and (One <= 10):\n",
    "    if (Two >= 1) and (Two <= 10):\n",
    "        print(\"Your number is: \", One * Two)\n",
    "    else:\n",
    "        print(\"Incorrect second value!\")\n",
    "else:\n",
    "    print (\"Incorrect first value!\")"
   ]
  },
  {
   "cell_type": "code",
   "execution_count": 9,
   "id": "b38f435f",
   "metadata": {},
   "outputs": [
    {
     "name": "stdout",
     "output_type": "stream",
     "text": [
      "Letter  1  is  H\n",
      "Letter  2  is  o\n",
      "Letter  3  is  w\n",
      "Letter  4  is  d\n",
      "Letter  5  is  y\n",
      "Letter  6  is  !\n"
     ]
    }
   ],
   "source": [
    "LetterNum = 1\n",
    "for Letter in \"Howdy!\":\n",
    "    print(\"Letter \", LetterNum, \" is \", Letter)\n",
    "    LetterNum+=1"
   ]
  },
  {
   "cell_type": "code",
   "execution_count": 19,
   "id": "c250b822",
   "metadata": {},
   "outputs": [
    {
     "name": "stdout",
     "output_type": "stream",
     "text": [
      "1.Eggs\n",
      "2. Pancakes\n",
      "3. Waffles\n",
      "4. Oatmel\n",
      "Choose a breakfast item: 4\n",
      "You choose oatmeal.\n"
     ]
    }
   ],
   "source": [
    "print(\"1.Eggs\")\n",
    "print(\"2. Pancakes\")\n",
    "print(\"3. Waffles\")\n",
    "print(\"4. Oatmel\")\n",
    "MainChoice = int(input(\"Choose a breakfast item: \"))\n",
    "if (MainChoice == 2):\n",
    "    Meal = \"Pancakes\"\n",
    "elif (MainChoice == 3):\n",
    "    Meal = \"Waffles\"\n",
    "if (MainChoice == 1):\n",
    "    print(\"1. Wheat Toast\")\n",
    "    print(\"2. Sour Dough\")\n",
    "    print(\"3. Rye Toast\")\n",
    "    print(\"4. Pancakes\")\n",
    "    Bread = int(input(\"Chose a type of bread: \"))\n",
    "    if (Bread == 1):\n",
    "        print(\"You chose eggs with wheat toast.\")\n",
    "    elif (Bread == 2):\n",
    "        print(\"You chose eggs with sour dough.\")\n",
    "    elif (Bread == 3):\n",
    "        print(\"You chose eggs with rye toast.\")\n",
    "    elif (Bread == 4):\n",
    "        print(\"You chise eggs with pancakes.\")\n",
    "    else:\n",
    "        print(\"We have eggs, but not that kind of bread.\")\n",
    "elif (MainChoice == 2) or (MainChoice == 3):\n",
    "    print(\"1.Syrup\")\n",
    "    print(\"2. Strawberries\")\n",
    "    print(\"3. Powdered Sugar\")\n",
    "    Topping = int(input(\"Choose a topping: \"))\n",
    "    if (Topping == 1):\n",
    "        print(\"You chose \" + Meal + \" with syrup.\")\n",
    "    elif (Topping == 2):\n",
    "        print (\"You chose \" + Meal + \" with strawberries.\")\n",
    "    elif (Topping == 3):\n",
    "        print (\"You chose \" + Meal + \" with powdered sugar.\")\n",
    "    else:\n",
    "        print (\"We have \" + Meal + \", but not that topping.\")\n",
    "elif (MainChoice == 4):\n",
    "    print (\"You choose oatmeal.\")\n",
    "else:\n",
    "    print(\"We don´t serve that breakfast item!\")"
   ]
  },
  {
   "cell_type": "code",
   "execution_count": null,
   "id": "f8565802",
   "metadata": {},
   "outputs": [],
   "source": []
  }
 ],
 "metadata": {
  "kernelspec": {
   "display_name": "Python 3 (ipykernel)",
   "language": "python",
   "name": "python3"
  },
  "language_info": {
   "codemirror_mode": {
    "name": "ipython",
    "version": 3
   },
   "file_extension": ".py",
   "mimetype": "text/x-python",
   "name": "python",
   "nbconvert_exporter": "python",
   "pygments_lexer": "ipython3",
   "version": "3.8.12"
  }
 },
 "nbformat": 4,
 "nbformat_minor": 5
}
