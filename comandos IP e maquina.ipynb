{
 "cells": [
  {
   "cell_type": "code",
   "execution_count": null,
   "id": "3bcb37c2",
   "metadata": {},
   "outputs": [],
   "source": [
    "import socket\n",
    "\n",
    "socket.gethostname()"
   ]
  },
  {
   "cell_type": "code",
   "execution_count": null,
   "id": "df937456",
   "metadata": {},
   "outputs": [],
   "source": [
    "socket.gethostbyname(socket.gethostname())"
   ]
  },
  {
   "cell_type": "code",
   "execution_count": null,
   "id": "76ec430f",
   "metadata": {},
   "outputs": [],
   "source": [
    "socket.getservbyport(25)"
   ]
  },
  {
   "cell_type": "code",
   "execution_count": null,
   "id": "7561bd2c",
   "metadata": {},
   "outputs": [],
   "source": [
    "socket.getaddrinfo(\"www.google.com\", 80)"
   ]
  },
  {
   "cell_type": "code",
   "execution_count": null,
   "id": "2dec237d",
   "metadata": {},
   "outputs": [],
   "source": [
    "socket.getaddrinfo(\"www.google.com\", 110)"
   ]
  }
 ],
 "metadata": {
  "kernelspec": {
   "display_name": "Python 3 (ipykernel)",
   "language": "python",
   "name": "python3"
  },
  "language_info": {
   "codemirror_mode": {
    "name": "ipython",
    "version": 3
   },
   "file_extension": ".py",
   "mimetype": "text/x-python",
   "name": "python",
   "nbconvert_exporter": "python",
   "pygments_lexer": "ipython3",
   "version": "3.8.12"
  }
 },
 "nbformat": 4,
 "nbformat_minor": 5
}
